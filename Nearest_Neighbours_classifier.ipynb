{
  "nbformat": 4,
  "nbformat_minor": 0,
  "metadata": {
    "colab": {
      "provenance": [],
      "gpuType": "T4",
      "authorship_tag": "ABX9TyOQAKc3VXZZi982rAwJdLO0",
      "include_colab_link": true
    },
    "kernelspec": {
      "name": "python3",
      "display_name": "Python 3"
    },
    "language_info": {
      "name": "python"
    },
    "accelerator": "GPU"
  },
  "cells": [
    {
      "cell_type": "markdown",
      "metadata": {
        "id": "view-in-github",
        "colab_type": "text"
      },
      "source": [
        "<a href=\"https://colab.research.google.com/github/kaisarsofi-kxar/CNN-Nearest-Neighbour-/blob/master/Nearest_Neighbours_classifier.ipynb\" target=\"_parent\"><img src=\"https://colab.research.google.com/assets/colab-badge.svg\" alt=\"Open In Colab\"/></a>"
      ]
    },
    {
      "cell_type": "markdown",
      "source": [
        "#import CIFAR10 Dataset"
      ],
      "metadata": {
        "id": "2fWG6v9Uq9O_"
      }
    },
    {
      "cell_type": "code",
      "execution_count": 1,
      "metadata": {
        "id": "BV-nUQy7kPEw"
      },
      "outputs": [],
      "source": [
        "\n",
        "from keras.datasets import cifar10"
      ]
    },
    {
      "cell_type": "markdown",
      "source": [
        "First, let’s load the CIFAR-10 data into memory as 4 arrays: the training data/labels and the test data/labels. In the code below, Xtr (of size 50,000 x 32 x 32 x 3) holds all the images in the training set, and a corresponding 1-dimensional array Ytr (of length 50,000) holds the training labels (from 0 to 9):"
      ],
      "metadata": {
        "id": "spZYsNdorK8n"
      }
    },
    {
      "cell_type": "code",
      "source": [
        "(Xtr, Ytr), (Xte, Yte) =cifar10.load_data()"
      ],
      "metadata": {
        "colab": {
          "base_uri": "https://localhost:8080/"
        },
        "id": "4hSVB5Lhkb8E",
        "outputId": "37a23f91-5253-44c4-dc6a-e3899465a788"
      },
      "execution_count": 5,
      "outputs": [
        {
          "output_type": "stream",
          "name": "stdout",
          "text": [
            "Downloading data from https://www.cs.toronto.edu/~kriz/cifar-10-python.tar.gz\n",
            "170498071/170498071 [==============================] - 2s 0us/step\n"
          ]
        }
      ]
    },
    {
      "cell_type": "markdown",
      "source": [
        "Here we are reshaping Xtr_rows into 50000 1D arrays of each arrar of 32x32x3=3072 columns.\n",
        "using reshape(50000,3072), as Xtr.shape[0]=50000"
      ],
      "metadata": {
        "id": "M3-fOnH-rg4U"
      }
    },
    {
      "cell_type": "code",
      "source": [
        "Xtr_rows = Xtr.reshape(Xtr.shape[0], 32 * 32 * 3) # Xtr_rows becomes 50000 x 3072\n",
        "Xte_rows = Xte.reshape(Xte.shape[0], 32 * 32 * 3) # Xte_rows becomes 10000 x 3072"
      ],
      "metadata": {
        "id": "qw7gYTFSkcgH"
      },
      "execution_count": 10,
      "outputs": []
    },
    {
      "cell_type": "markdown",
      "source": [
        "Notice that as an evaluation criterion, it is common to use the accuracy, which measures the fraction of predictions that were correct. Notice that all classifiers we will build satisfy this one common API: they have a train(X,y) function that takes the data and the labels to learn from. Internally, the class should build some kind of model of the labels and how they can be predicted from the data. And then there is a predict(X) function, which takes new data and predicts the labels. Of course, we’ve left out the meat of things - the actual classifier itself. Here is an implementation of a simple Nearest Neighbor classifier with the L1 distance that satisfies this template:"
      ],
      "metadata": {
        "id": "M15niWHxsNeW"
      }
    },
    {
      "cell_type": "code",
      "source": [
        "import numpy as np\n",
        "\n",
        "class NearestNeighbor(object):\n",
        "  def __init__(self):\n",
        "    pass\n",
        "\n",
        "  def train(self, X, y):\n",
        "    \"\"\" X is N x D where each row is an example. Y is 1-dimension of size N \"\"\"\n",
        "    # the nearest neighbor classifier simply remembers all the training data\n",
        "    self.Xtr = X\n",
        "    self.ytr = y\n",
        "\n",
        "  def predict(self, X):\n",
        "    \"\"\" X is N x D where each row is an example we wish to predict label for \"\"\"\n",
        "    num_test = X.shape[0]\n",
        "    # lets make sure that the output type matches the input type\n",
        "    Ypred = np.zeros(num_test, dtype = self.ytr.dtype)\n",
        "\n",
        "    # loop over all test rows\n",
        "    for i in range(num_test):\n",
        "      # find the nearest training image to the i'th test image\n",
        "      # using the L1 distance (sum of absolute value differences)\n",
        "      distances = np.sum(np.abs(self.Xtr - X[i,:]), axis = 1)\n",
        "      min_index = np.argmin(distances) # get the index with smallest distance\n",
        "      Ypred[i] = self.ytr[min_index] # predict the label of the nearest example\n",
        "\n",
        "    return Ypred"
      ],
      "metadata": {
        "id": "CdiQBk7xnSoQ"
      },
      "execution_count": 11,
      "outputs": []
    },
    {
      "cell_type": "markdown",
      "source": [
        "Now that we have all images stretched out as rows, here is how we could train and evaluate a classifier:"
      ],
      "metadata": {
        "id": "Hy7oWKLRsCle"
      }
    },
    {
      "cell_type": "code",
      "source": [
        "nn = NearestNeighbor() # create a Nearest Neighbor classifier class\n",
        "nn.train(Xtr_rows, Ytr) # train the classifier on the training images and labels\n",
        "Yte_predict = nn.predict(Xte_rows) # predict labels on the test images\n",
        "# and now print the classification accuracy, which is the average number\n",
        "# of examples that are correctly predicted (i.e. label matches)\n",
        "print ('accuracy: %f' % ( np.mean(Yte_predict == Yte) ))"
      ],
      "metadata": {
        "id": "4lii1HGinWPI"
      },
      "execution_count": null,
      "outputs": []
    }
  ]
}