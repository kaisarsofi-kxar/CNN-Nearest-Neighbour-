{
  "nbformat": 4,
  "nbformat_minor": 0,
  "metadata": {
    "colab": {
      "provenance": [],
      "gpuType": "T4",
      "authorship_tag": "ABX9TyPeanfuvNey+JAsNB+MZSRq",
      "include_colab_link": true
    },
    "kernelspec": {
      "name": "python3",
      "display_name": "Python 3"
    },
    "language_info": {
      "name": "python"
    },
    "accelerator": "GPU"
  },
  "cells": [
    {
      "cell_type": "markdown",
      "metadata": {
        "id": "view-in-github",
        "colab_type": "text"
      },
      "source": [
        "<a href=\"https://colab.research.google.com/github/kaisarsofi-kxar/CNN-Nearest-Neighbour-/blob/master/Nearest_Neighbours_classifier.ipynb\" target=\"_parent\"><img src=\"https://colab.research.google.com/assets/colab-badge.svg\" alt=\"Open In Colab\"/></a>"
      ]
    },
    {
      "cell_type": "code",
      "execution_count": 1,
      "metadata": {
        "id": "BV-nUQy7kPEw"
      },
      "outputs": [],
      "source": [
        "from keras.datasets import cifar10"
      ]
    },
    {
      "cell_type": "code",
      "source": [
        "(Xtr, Ytr), (Xte, Yte) =cifar10.load_data()"
      ],
      "metadata": {
        "colab": {
          "base_uri": "https://localhost:8080/"
        },
        "id": "4hSVB5Lhkb8E",
        "outputId": "37a23f91-5253-44c4-dc6a-e3899465a788"
      },
      "execution_count": 5,
      "outputs": [
        {
          "output_type": "stream",
          "name": "stdout",
          "text": [
            "Downloading data from https://www.cs.toronto.edu/~kriz/cifar-10-python.tar.gz\n",
            "170498071/170498071 [==============================] - 2s 0us/step\n"
          ]
        }
      ]
    },
    {
      "cell_type": "code",
      "source": [],
      "metadata": {
        "id": "FbCHPdehm1la"
      },
      "execution_count": null,
      "outputs": []
    },
    {
      "cell_type": "code",
      "source": [
        "Xtr_rows = Xtr.reshape(Xtr.shape[0], 32 * 32 * 3) # Xtr_rows becomes 50000 x 3072\n",
        "Xte_rows = Xte.reshape(Xte.shape[0], 32 * 32 * 3)"
      ],
      "metadata": {
        "id": "qw7gYTFSkcgH"
      },
      "execution_count": 10,
      "outputs": []
    },
    {
      "cell_type": "code",
      "source": [
        "import numpy as np\n",
        "\n",
        "class NearestNeighbor(object):\n",
        "  def __init__(self):\n",
        "    pass\n",
        "\n",
        "  def train(self, X, y):\n",
        "    \"\"\" X is N x D where each row is an example. Y is 1-dimension of size N \"\"\"\n",
        "    # the nearest neighbor classifier simply remembers all the training data\n",
        "    self.Xtr = X\n",
        "    self.ytr = y\n",
        "\n",
        "  def predict(self, X):\n",
        "    \"\"\" X is N x D where each row is an example we wish to predict label for \"\"\"\n",
        "    num_test = X.shape[0]\n",
        "    # lets make sure that the output type matches the input type\n",
        "    Ypred = np.zeros(num_test, dtype = self.ytr.dtype)\n",
        "\n",
        "    # loop over all test rows\n",
        "    for i in range(num_test):\n",
        "      # find the nearest training image to the i'th test image\n",
        "      # using the L1 distance (sum of absolute value differences)\n",
        "      distances = np.sum(np.abs(self.Xtr - X[i,:]), axis = 1)\n",
        "      min_index = np.argmin(distances) # get the index with smallest distance\n",
        "      Ypred[i] = self.ytr[min_index] # predict the label of the nearest example\n",
        "\n",
        "    return Ypred"
      ],
      "metadata": {
        "id": "CdiQBk7xnSoQ"
      },
      "execution_count": 11,
      "outputs": []
    },
    {
      "cell_type": "code",
      "source": [
        "nn = NearestNeighbor() # create a Nearest Neighbor classifier class\n",
        "nn.train(Xtr_rows, Ytr) # train the classifier on the training images and labels\n",
        "Yte_predict = nn.predict(Xte_rows) # predict labels on the test images\n",
        "# and now print the classification accuracy, which is the average number\n",
        "# of examples that are correctly predicted (i.e. label matches)\n",
        "print ('accuracy: %f' % ( np.mean(Yte_predict == Yte) ))"
      ],
      "metadata": {
        "id": "4lii1HGinWPI"
      },
      "execution_count": null,
      "outputs": []
    }
  ]
}